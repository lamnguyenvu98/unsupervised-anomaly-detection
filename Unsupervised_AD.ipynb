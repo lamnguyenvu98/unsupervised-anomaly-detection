{
  "nbformat": 4,
  "nbformat_minor": 0,
  "metadata": {
    "colab": {
      "provenance": [],
      "gpuType": "T4",
      "collapsed_sections": [
        "bSVc_kBnA3fW"
      ]
    },
    "kernelspec": {
      "name": "python3",
      "display_name": "Python 3"
    },
    "language_info": {
      "name": "python"
    },
    "accelerator": "GPU"
  },
  "cells": [
    {
      "cell_type": "markdown",
      "source": [
        "### Clone repo"
      ],
      "metadata": {
        "id": "xxglv1NsAy-g"
      }
    },
    {
      "cell_type": "code",
      "execution_count": 1,
      "metadata": {
        "colab": {
          "base_uri": "https://localhost:8080/"
        },
        "id": "fwrBbXVlvrU3",
        "outputId": "c767a1da-4be2-4b00-df59-f8992ff1d834"
      },
      "outputs": [
        {
          "output_type": "stream",
          "name": "stdout",
          "text": [
            "Cloning into 'unsupervised-anomaly-detection'...\n",
            "remote: Enumerating objects: 150, done.\u001b[K\n",
            "remote: Counting objects: 100% (150/150), done.\u001b[K\n",
            "remote: Compressing objects: 100% (93/93), done.\u001b[K\n",
            "remote: Total 150 (delta 67), reused 133 (delta 51), pack-reused 0\u001b[K\n",
            "Receiving objects: 100% (150/150), 6.83 MiB | 24.30 MiB/s, done.\n",
            "Resolving deltas: 100% (67/67), done.\n"
          ]
        }
      ],
      "source": [
        "!git clone https://github.com/lamnguyenvu98/unsupervised-anomaly-detection.git"
      ]
    },
    {
      "cell_type": "markdown",
      "source": [
        "## Setup kaggle\n",
        "\n",
        "Upload `kaggle.json` to GDrive"
      ],
      "metadata": {
        "id": "qTZg-EgT2MaH"
      }
    },
    {
      "cell_type": "code",
      "source": [
        "%%writefile /content/kaggle.sh\n",
        "#!/bin/bash\n",
        "if [ ! -d \"/root/.kaggle\" ]\n",
        "then\n",
        "  mkdir /root/.kaggle\n",
        "fi\n",
        "\n",
        "mv /content/drive/MyDrive/kaggle.json  --output /root/.kaggle/kaggle.json\n",
        "chmod 600 /root/.kaggle/kaggle.json"
      ],
      "metadata": {
        "id": "Laz8CrAP2PAm"
      },
      "execution_count": null,
      "outputs": []
    },
    {
      "cell_type": "markdown",
      "source": [
        "## Install transistor dataset\n",
        "\n",
        "*Note*: transistor dataset is a subset of mvtec-ad dataset\n",
        "\n",
        "**Explain dataset structure:**\n",
        "\n",
        "\n",
        "Here, we download 2 datasets: MVTec-AD (contains many different objects) and Transistor dataset for testing purpose\n",
        "\n",
        "Transistor dataset should be replaced by your custom dataset.\n",
        "\n",
        "Your custom dataset should have the following order:\n",
        "\n",
        "![image.png](data:image/png;base64,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)\n",
        "\n",
        "In the example above, transistor is the dataset root. It will contain a train folder and a test folder.\n",
        "\n",
        "In the train folder, it only contains a `good` folder. `good` folder contains normal images (OK).\n",
        "\n",
        "In the test folder, it contains good and other anomaly folders. Since, we don't care about these anomaly classes. We can specify only a anomaly folder, or whatever the name that you want. In short, test will contain `good` and `anomaly` folder. Inside of good, there are normal images. Inside of anomaly folder, there are abnormal (NG) images."
      ],
      "metadata": {
        "id": "d_kNtLPhBAjh"
      }
    },
    {
      "cell_type": "code",
      "source": [
        "### Mvtech\n",
        "%%capture\n",
        "!bash /content/kaggle.sh\n",
        "!kaggle datasets download -d ipythonx/mvtec-ad\n",
        "!mkdir /content/mvtec-ad\n",
        "!unzip /content/mvtec-ad.zip -d /content/mvtec-ad\n",
        "!rm /content/mvtec-ad.zip"
      ],
      "metadata": {
        "id": "myx2Z8xLwDRe"
      },
      "execution_count": 6,
      "outputs": []
    },
    {
      "cell_type": "markdown",
      "source": [
        "## Install project and dependencies"
      ],
      "metadata": {
        "id": "rAANkuYN2zJN"
      }
    },
    {
      "cell_type": "code",
      "source": [
        "!pip install /content/unsupervised-anomaly-detection"
      ],
      "metadata": {
        "id": "cm9wvMmoSOxd"
      },
      "execution_count": null,
      "outputs": []
    },
    {
      "cell_type": "markdown",
      "source": [
        "## Train padim and evaluate"
      ],
      "metadata": {
        "id": "CirnYyhiDm0Y"
      }
    },
    {
      "cell_type": "code",
      "source": [
        "%%writefile /content/padim_config.yaml\n",
        "MODEL:\n",
        "  INPUT_SIZE: 256\n",
        "TRAIN:\n",
        "  EPOCH: 50\n",
        "  BATCH_SIZE: 8\n",
        "  PRETRAINED: True\n",
        "  DEVICE: \"cuda\"\n",
        "  DATA_DIR: \"/content/transistor\"\n",
        "  SAVE_DIR: \"/content\"\n",
        "  CHECKPOINT_PATH: \"\"\n",
        "  REDUCE_FEATURES: 100"
      ],
      "metadata": {
        "id": "nscQvMWwBU8V",
        "colab": {
          "base_uri": "https://localhost:8080/"
        },
        "outputId": "92f87885-6785-442c-9f94-9056492bb45d"
      },
      "execution_count": 5,
      "outputs": [
        {
          "output_type": "stream",
          "name": "stdout",
          "text": [
            "Overwriting /content/config.yaml\n"
          ]
        }
      ]
    },
    {
      "cell_type": "code",
      "source": [
        "!python /content/unsupervised-anomaly-detection/train_padim.py \\\n",
        "    --config /content/padim_config.yaml"
      ],
      "metadata": {
        "colab": {
          "base_uri": "https://localhost:8080/"
        },
        "id": "g4Z_kiv8wuS8",
        "outputId": "d113c44e-2768-452a-d271-219019ec74c4"
      },
      "execution_count": 2,
      "outputs": [
        {
          "output_type": "stream",
          "name": "stdout",
          "text": [
            "Size of training set:  213\n",
            "Size of testing set:  100\n",
            "Optimal threshold is: 0.34250495\n",
            "ROC AUC score: 0.94\n",
            "Threshold:  0.34250495\n"
          ]
        }
      ]
    },
    {
      "cell_type": "markdown",
      "source": [
        "## Train DFR"
      ],
      "metadata": {
        "id": "2BXpbsG9ULFU"
      }
    },
    {
      "cell_type": "code",
      "source": [
        "%%writefile /content/dfr_config.yaml\n",
        "MODEL:\n",
        "  INPUT_SIZE: 224\n",
        "TRAIN:\n",
        "  EPOCH: 700\n",
        "  BURN_IN: 100\n",
        "  BATCH_SIZE: 8\n",
        "  LEARNING_RATE: 1.0e-4\n",
        "  NUM_LAYERS: 16\n",
        "  PRETRAINED: True\n",
        "  DEVICE: \"cuda\"\n",
        "  DATA_DIR: \"/content/transistor\"\n",
        "  SAVE_DIR: \"/content\"\n",
        "  RESUME_TRAIN: False\n",
        "  CHECKPOINT_PATH: \"/content/last.pt\""
      ],
      "metadata": {
        "colab": {
          "base_uri": "https://localhost:8080/"
        },
        "id": "5WAS89h8UZcO",
        "outputId": "f7f04195-3881-4ebe-cf79-53cf1e0c77bd"
      },
      "execution_count": 3,
      "outputs": [
        {
          "output_type": "stream",
          "name": "stdout",
          "text": [
            "Overwriting /content/config.yaml\n"
          ]
        }
      ]
    },
    {
      "cell_type": "code",
      "source": [
        "!python /content/unsupervised-anomaly-detection/train_dfr.py \\\n",
        "    --config /content/dfr_config.yaml"
      ],
      "metadata": {
        "id": "ZHLVaqEvziAI",
        "colab": {
          "base_uri": "https://localhost:8080/"
        },
        "outputId": "e99b751a-579e-45d3-ca9b-51ff8063524a"
      },
      "execution_count": 5,
      "outputs": [
        {
          "output_type": "stream",
          "name": "stdout",
          "text": [
            "Size of training set:  213\n",
            "Size of test set:  100\n",
            "Downloading: \"https://download.pytorch.org/models/vgg19-dcbb9e9d.pth\" to /root/.cache/torch/hub/checkpoints/vgg19-dcbb9e9d.pth\n",
            "100% 548M/548M [00:07<00:00, 76.4MB/s]\n",
            "Compute PCA: 100% 26/26 [00:14<00:00,  1.74it/s]\n",
            "Extractions shape: (4160, 5504)\n",
            "Components with explainable variance 0.9 -> 403\n",
            "Epoch 0 / 700\n",
            "\tTrain Phase: 100% 26/26 [00:52<00:00,  2.03s/it, loss: 7.06760]\n",
            "[RESULT] Train Loss: 7.91851\n",
            "\n",
            "Epoch 1 / 700\n",
            "\tTrain Phase: 100% 26/26 [00:54<00:00,  2.12s/it, loss: 7.10307]\n",
            "[RESULT] Train Loss: 6.95965\n",
            "\n",
            "Epoch 2 / 700\n",
            "\tTrain Phase: 100% 26/26 [00:58<00:00,  2.24s/it, loss: 6.51198]\n",
            "[RESULT] Train Loss: 6.70158\n",
            "\n",
            "Epoch 3 / 700\n",
            "\tTrain Phase: 100% 26/26 [00:57<00:00,  2.21s/it, loss: 6.25982]\n",
            "[RESULT] Train Loss: 6.54961\n",
            "\n",
            "Epoch 4 / 700\n",
            "\tTrain Phase: 100% 26/26 [00:57<00:00,  2.21s/it, loss: 6.40565]\n",
            "[RESULT] Train Loss: 6.45549\n",
            "\n",
            "Epoch 5 / 700\n",
            "\tTrain Phase: 100% 26/26 [00:57<00:00,  2.22s/it, loss: 6.12857]\n",
            "[RESULT] Train Loss: 6.37370\n",
            "\n",
            "Epoch 6 / 700\n",
            "\tTrain Phase: 100% 26/26 [00:57<00:00,  2.22s/it, loss: 6.24533]\n",
            "[RESULT] Train Loss: 6.31334\n",
            "\n",
            "Epoch 7 / 700\n",
            "\tTrain Phase: 100% 26/26 [00:57<00:00,  2.20s/it, loss: 6.28586]\n",
            "[RESULT] Train Loss: 6.25798\n",
            "\n",
            "Epoch 8 / 700\n",
            "\tTrain Phase: 100% 26/26 [00:58<00:00,  2.23s/it, loss: 6.16074]\n",
            "[RESULT] Train Loss: 6.21470\n",
            "\n",
            "Epoch 9 / 700\n",
            "\tTrain Phase: 100% 26/26 [00:57<00:00,  2.21s/it, loss: 6.32327]\n",
            "[RESULT] Train Loss: 6.17802\n",
            "\n",
            "Epoch 10 / 700\n",
            "\tTrain Phase: 100% 26/26 [00:57<00:00,  2.20s/it, loss: 5.97416]\n",
            "[RESULT] Train Loss: 6.14043\n",
            "\n",
            "Epoch 11 / 700\n",
            "\tTrain Phase: 100% 26/26 [00:57<00:00,  2.23s/it, loss: 6.24742]\n",
            "[RESULT] Train Loss: 6.10808\n",
            "\n",
            "Epoch 12 / 700\n",
            "\tTrain Phase: 100% 26/26 [00:57<00:00,  2.23s/it, loss: 5.95035]\n",
            "[RESULT] Train Loss: 6.08010\n",
            "\n",
            "Epoch 13 / 700\n",
            "\tTrain Phase: 100% 26/26 [00:57<00:00,  2.20s/it, loss: 6.03734]\n",
            "[RESULT] Train Loss: 6.05108\n",
            "\n",
            "Epoch 14 / 700\n",
            "\tTrain Phase: 100% 26/26 [00:57<00:00,  2.21s/it, loss: 6.12031]\n",
            "[RESULT] Train Loss: 6.03103\n",
            "\n",
            "Epoch 15 / 700\n",
            "\tTrain Phase: 100% 26/26 [00:57<00:00,  2.22s/it, loss: 6.05312]\n",
            "[RESULT] Train Loss: 5.99961\n",
            "\n",
            "Epoch 16 / 700\n",
            "\tTrain Phase: 100% 26/26 [00:57<00:00,  2.20s/it, loss: 6.00572]\n",
            "[RESULT] Train Loss: 5.98420\n",
            "\n",
            "Epoch 17 / 700\n",
            "\tTrain Phase: 100% 26/26 [00:57<00:00,  2.22s/it, loss: 5.90810]\n",
            "[RESULT] Train Loss: 5.95992\n",
            "\n",
            "Epoch 18 / 700\n",
            "\tTrain Phase: 100% 26/26 [00:57<00:00,  2.23s/it, loss: 5.85594]\n",
            "[RESULT] Train Loss: 5.94581\n",
            "\n",
            "Epoch 19 / 700\n",
            "\tTrain Phase: 100% 26/26 [00:57<00:00,  2.20s/it, loss: 6.09990]\n",
            "[RESULT] Train Loss: 5.92063\n",
            "\n",
            "Epoch 20 / 700\n",
            "\tTrain Phase: 100% 26/26 [00:57<00:00,  2.20s/it, loss: 5.63345]\n",
            "[RESULT] Train Loss: 5.89861\n",
            "\n",
            "Epoch 21 / 700\n",
            "\tTrain Phase: 100% 26/26 [00:57<00:00,  2.21s/it, loss: 5.67244]\n",
            "[RESULT] Train Loss: 5.88459\n",
            "\n",
            "Epoch 22 / 700\n",
            "\tTrain Phase: 100% 26/26 [00:58<00:00,  2.23s/it, loss: 6.19431]\n",
            "[RESULT] Train Loss: 5.86740\n",
            "\n",
            "Epoch 23 / 700\n",
            "\tTrain Phase: 100% 26/26 [00:57<00:00,  2.21s/it, loss: 5.74222]\n",
            "[RESULT] Train Loss: 5.84760\n",
            "\n",
            "Epoch 24 / 700\n",
            "\tTrain Phase: 100% 26/26 [00:57<00:00,  2.23s/it, loss: 5.82614]\n",
            "[RESULT] Train Loss: 5.81941\n",
            "\n",
            "Epoch 25 / 700\n",
            "\tTrain Phase: 100% 26/26 [00:57<00:00,  2.22s/it, loss: 5.56597]\n",
            "[RESULT] Train Loss: 5.81783\n",
            "\n",
            "Epoch 26 / 700\n",
            "\tTrain Phase: 100% 26/26 [00:57<00:00,  2.20s/it, loss: 5.66684]\n",
            "[RESULT] Train Loss: 5.80032\n",
            "\n",
            "Epoch 27 / 700\n",
            "\tTrain Phase: 100% 26/26 [00:57<00:00,  2.21s/it, loss: 5.49158]\n",
            "[RESULT] Train Loss: 5.78025\n",
            "\n",
            "Epoch 28 / 700\n",
            "\tTrain Phase: 100% 26/26 [00:57<00:00,  2.23s/it, loss: 5.70072]\n",
            "[RESULT] Train Loss: 5.76941\n",
            "\n",
            "Epoch 29 / 700\n",
            "\tTrain Phase: 100% 26/26 [00:57<00:00,  2.23s/it, loss: 5.94925]\n",
            "[RESULT] Train Loss: 5.75086\n",
            "\n",
            "Epoch 30 / 700\n",
            "\tTrain Phase: 100% 26/26 [00:57<00:00,  2.20s/it, loss: 5.52881]\n",
            "[RESULT] Train Loss: 5.73960\n",
            "\n",
            "Epoch 31 / 700\n",
            "\tTrain Phase: 100% 26/26 [00:57<00:00,  2.22s/it, loss: 5.43170]\n",
            "[RESULT] Train Loss: 5.71725\n",
            "\n",
            "Epoch 32 / 700\n",
            "\tTrain Phase: 100% 26/26 [00:57<00:00,  2.22s/it, loss: 5.80783]\n",
            "[RESULT] Train Loss: 5.71181\n",
            "\n",
            "Epoch 33 / 700\n",
            "\tTrain Phase: 100% 26/26 [00:57<00:00,  2.23s/it, loss: 5.32539]\n",
            "[RESULT] Train Loss: 5.69187\n",
            "\n",
            "Epoch 34 / 700\n",
            "\tTrain Phase: 100% 26/26 [00:57<00:00,  2.21s/it, loss: 5.40576]\n",
            "[RESULT] Train Loss: 5.68568\n",
            "\n",
            "Epoch 35 / 700\n",
            "\tTrain Phase: 100% 26/26 [00:57<00:00,  2.20s/it, loss: 5.95290]\n",
            "[RESULT] Train Loss: 5.66415\n",
            "\n",
            "Epoch 36 / 700\n",
            "\tTrain Phase: 100% 26/26 [00:57<00:00,  2.21s/it, loss: 5.81689]\n",
            "[RESULT] Train Loss: 5.64440\n",
            "\n",
            "Epoch 37 / 700\n",
            "\tTrain Phase: 100% 26/26 [00:57<00:00,  2.23s/it, loss: 5.49726]\n",
            "[RESULT] Train Loss: 5.63753\n",
            "\n",
            "Epoch 38 / 700\n",
            "\tTrain Phase: 100% 26/26 [00:58<00:00,  2.23s/it, loss: 6.00109]\n",
            "[RESULT] Train Loss: 5.62303\n",
            "\n",
            "Epoch 39 / 700\n",
            "\tTrain Phase: 100% 26/26 [00:57<00:00,  2.21s/it, loss: 5.77161]\n",
            "[RESULT] Train Loss: 5.60965\n",
            "\n",
            "Epoch 40 / 700\n",
            "\tTrain Phase: 100% 26/26 [00:57<00:00,  2.21s/it, loss: 5.57495]\n",
            "[RESULT] Train Loss: 5.60464\n",
            "\n",
            "Epoch 41 / 700\n",
            "\tTrain Phase: 100% 26/26 [00:57<00:00,  2.22s/it, loss: 5.62846]\n",
            "[RESULT] Train Loss: 5.57909\n",
            "\n",
            "Epoch 42 / 700\n",
            "\tTrain Phase: 100% 26/26 [00:57<00:00,  2.20s/it, loss: 5.58196]\n",
            "[RESULT] Train Loss: 5.57283\n",
            "\n",
            "Epoch 43 / 700\n",
            "\tTrain Phase: 100% 26/26 [00:57<00:00,  2.21s/it, loss: 5.53083]\n",
            "[RESULT] Train Loss: 5.56047\n",
            "\n",
            "Epoch 44 / 700\n",
            "\tTrain Phase: 100% 26/26 [00:58<00:00,  2.23s/it, loss: 5.72479]\n",
            "[RESULT] Train Loss: 5.54029\n",
            "\n",
            "Epoch 45 / 700\n",
            "\tTrain Phase: 100% 26/26 [00:58<00:00,  2.23s/it, loss: 5.49777]\n",
            "[RESULT] Train Loss: 5.53101\n",
            "\n",
            "Epoch 46 / 700\n",
            "\tTrain Phase: 100% 26/26 [00:57<00:00,  2.20s/it, loss: 5.55342]\n",
            "[RESULT] Train Loss: 5.51457\n",
            "\n",
            "Epoch 47 / 700\n",
            "\tTrain Phase: 100% 26/26 [00:57<00:00,  2.20s/it, loss: 5.51730]\n",
            "[RESULT] Train Loss: 5.50732\n",
            "\n",
            "Epoch 48 / 700\n",
            "\tTrain Phase: 100% 26/26 [00:57<00:00,  2.22s/it, loss: 5.15318]\n",
            "[RESULT] Train Loss: 5.49969\n",
            "\n",
            "Epoch 49 / 700\n",
            "\tTrain Phase: 100% 26/26 [00:57<00:00,  2.20s/it, loss: 5.55783]\n",
            "[RESULT] Train Loss: 5.48287\n",
            "\n",
            "Epoch 50 / 700\n",
            "\tTrain Phase: 100% 26/26 [00:57<00:00,  2.20s/it, loss: 5.44418]\n",
            "[RESULT] Train Loss: 5.46852\n",
            "\n",
            "Epoch 51 / 700\n",
            "\tTrain Phase: 100% 26/26 [00:57<00:00,  2.21s/it, loss: 5.29437]\n",
            "[RESULT] Train Loss: 5.45514\n",
            "\n",
            "Epoch 52 / 700\n",
            "\tTrain Phase: 100% 26/26 [00:57<00:00,  2.23s/it, loss: 5.43561]\n",
            "[RESULT] Train Loss: 5.44134\n",
            "\n",
            "Epoch 53 / 700\n",
            "\tTrain Phase: 100% 26/26 [00:57<00:00,  2.20s/it, loss: 5.39805]\n",
            "[RESULT] Train Loss: 5.44069\n",
            "\n",
            "Epoch 54 / 700\n",
            "\tTrain Phase: 100% 26/26 [00:57<00:00,  2.21s/it, loss: 5.39088]\n",
            "[RESULT] Train Loss: 5.42628\n",
            "\n",
            "Epoch 55 / 700\n",
            "\tTrain Phase: 100% 26/26 [00:57<00:00,  2.22s/it, loss: 5.27642]\n",
            "[RESULT] Train Loss: 5.40757\n",
            "\n",
            "Epoch 56 / 700\n",
            "\tTrain Phase: 100% 26/26 [00:57<00:00,  2.23s/it, loss: 5.15795]\n",
            "[RESULT] Train Loss: 5.40441\n",
            "\n",
            "Epoch 57 / 700\n",
            "\tTrain Phase: 100% 26/26 [00:57<00:00,  2.20s/it, loss: 5.21161]\n",
            "[RESULT] Train Loss: 5.39307\n",
            "\n",
            "Epoch 58 / 700\n",
            "\tTrain Phase: 100% 26/26 [00:57<00:00,  2.21s/it, loss: 5.42526]\n",
            "[RESULT] Train Loss: 5.38084\n",
            "\n",
            "Epoch 59 / 700\n",
            "\tTrain Phase: 100% 26/26 [00:57<00:00,  2.21s/it, loss: 5.40642]\n",
            "[RESULT] Train Loss: 5.36916\n",
            "\n",
            "Epoch 60 / 700\n",
            "\tTrain Phase: 100% 26/26 [00:57<00:00,  2.23s/it, loss: 5.22109]\n",
            "[RESULT] Train Loss: 5.36090\n",
            "\n",
            "Epoch 61 / 700\n",
            "\tTrain Phase: 100% 26/26 [00:58<00:00,  2.23s/it, loss: 5.60956]\n",
            "[RESULT] Train Loss: 5.34021\n",
            "\n",
            "Epoch 62 / 700\n",
            "\tTrain Phase: 100% 26/26 [00:57<00:00,  2.21s/it, loss: 5.36463]\n",
            "[RESULT] Train Loss: 5.33526\n",
            "\n",
            "Epoch 63 / 700\n",
            "\tTrain Phase: 100% 26/26 [00:57<00:00,  2.22s/it, loss: 5.28735]\n",
            "[RESULT] Train Loss: 5.32549\n",
            "\n",
            "Epoch 64 / 700\n",
            "\tTrain Phase: 100% 26/26 [00:57<00:00,  2.23s/it, loss: 5.10418]\n",
            "[RESULT] Train Loss: 5.31233\n",
            "\n",
            "Epoch 65 / 700\n",
            "\tTrain Phase: 100% 26/26 [00:57<00:00,  2.20s/it, loss: 5.30506]\n",
            "[RESULT] Train Loss: 5.30125\n",
            "\n",
            "Epoch 66 / 700\n",
            "\tTrain Phase: 100% 26/26 [00:57<00:00,  2.20s/it, loss: 5.29071]\n",
            "[RESULT] Train Loss: 5.29391\n",
            "\n",
            "Epoch 67 / 700\n",
            "\tTrain Phase: 100% 26/26 [00:57<00:00,  2.21s/it, loss: 5.47910]\n",
            "[RESULT] Train Loss: 5.28055\n",
            "\n",
            "Epoch 68 / 700\n",
            "\tTrain Phase: 100% 26/26 [00:58<00:00,  2.24s/it, loss: 5.09737]\n",
            "[RESULT] Train Loss: 5.26708\n",
            "\n",
            "Epoch 69 / 700\n",
            "\tTrain Phase: 100% 26/26 [00:57<00:00,  2.20s/it, loss: 5.60663]\n",
            "[RESULT] Train Loss: 5.25351\n",
            "\n",
            "Epoch 70 / 700\n",
            "\tTrain Phase: 100% 26/26 [00:57<00:00,  2.20s/it, loss: 5.23587]\n",
            "[RESULT] Train Loss: 5.24570\n",
            "\n",
            "Epoch 71 / 700\n",
            "\tTrain Phase: 100% 26/26 [00:57<00:00,  2.21s/it, loss: 5.03694]\n",
            "[RESULT] Train Loss: 5.23919\n",
            "\n",
            "Epoch 72 / 700\n",
            "\tTrain Phase: 100% 26/26 [00:57<00:00,  2.23s/it, loss: 5.41255]\n",
            "[RESULT] Train Loss: 5.22630\n",
            "\n",
            "Epoch 73 / 700\n",
            "\tTrain Phase: 100% 26/26 [00:57<00:00,  2.20s/it, loss: 5.24806]\n",
            "[RESULT] Train Loss: 5.22033\n",
            "\n",
            "Epoch 74 / 700\n",
            "\tTrain Phase: 100% 26/26 [00:57<00:00,  2.21s/it, loss: 5.15465]\n",
            "[RESULT] Train Loss: 5.20358\n",
            "\n",
            "Epoch 75 / 700\n",
            "\tTrain Phase: 100% 26/26 [00:58<00:00,  2.23s/it, loss: 4.99907]\n",
            "[RESULT] Train Loss: 5.19167\n",
            "\n",
            "Epoch 76 / 700\n",
            "\tTrain Phase: 100% 26/26 [00:57<00:00,  2.21s/it, loss: 5.02233]\n",
            "[RESULT] Train Loss: 5.18017\n",
            "\n",
            "Epoch 77 / 700\n",
            "\tTrain Phase: 100% 26/26 [00:57<00:00,  2.21s/it, loss: 4.93556]\n",
            "[RESULT] Train Loss: 5.17096\n",
            "\n",
            "Epoch 78 / 700\n",
            "\tTrain Phase: 100% 26/26 [00:58<00:00,  2.23s/it, loss: 5.16495]\n",
            "[RESULT] Train Loss: 5.16903\n",
            "\n",
            "Epoch 79 / 700\n",
            "\tTrain Phase: 100% 26/26 [00:57<00:00,  2.23s/it, loss: 5.06588]\n",
            "[RESULT] Train Loss: 5.14922\n",
            "\n",
            "Epoch 80 / 700\n",
            "\tTrain Phase: 100% 26/26 [00:57<00:00,  2.20s/it, loss: 5.00977]\n",
            "[RESULT] Train Loss: 5.13571\n",
            "\n",
            "Epoch 81 / 700\n",
            "\tTrain Phase: 100% 26/26 [00:57<00:00,  2.22s/it, loss: 5.22447]\n",
            "[RESULT] Train Loss: 5.12572\n",
            "\n",
            "Epoch 82 / 700\n",
            "\tTrain Phase: 100% 26/26 [00:57<00:00,  2.20s/it, loss: 5.01821]\n",
            "[RESULT] Train Loss: 5.12273\n",
            "\n",
            "Epoch 83 / 700\n",
            "\tTrain Phase: 100% 26/26 [00:58<00:00,  2.24s/it, loss: 5.11341]\n",
            "[RESULT] Train Loss: 5.10875\n",
            "\n",
            "Epoch 84 / 700\n",
            "\tTrain Phase: 100% 26/26 [00:57<00:00,  2.23s/it, loss: 5.36590]\n",
            "[RESULT] Train Loss: 5.10024\n",
            "\n",
            "Epoch 85 / 700\n",
            "\tTrain Phase: 100% 26/26 [00:57<00:00,  2.19s/it, loss: 4.99337]\n",
            "[RESULT] Train Loss: 5.09701\n",
            "\n",
            "Epoch 86 / 700\n",
            "\tTrain Phase: 100% 26/26 [00:57<00:00,  2.22s/it, loss: 5.02689]\n",
            "[RESULT] Train Loss: 5.07837\n",
            "\n",
            "Epoch 87 / 700\n",
            "\tTrain Phase: 100% 26/26 [00:57<00:00,  2.22s/it, loss: 4.93905]\n",
            "[RESULT] Train Loss: 5.07407\n",
            "\n",
            "Epoch 88 / 700\n",
            "\tTrain Phase: 100% 26/26 [00:57<00:00,  2.21s/it, loss: 5.44805]\n",
            "[RESULT] Train Loss: 5.06334\n",
            "\n",
            "Epoch 89 / 700\n",
            "\tTrain Phase: 100% 26/26 [00:57<00:00,  2.20s/it, loss: 5.14211]\n",
            "[RESULT] Train Loss: 5.05633\n",
            "\n",
            "Epoch 90 / 700\n",
            "\tTrain Phase: 100% 26/26 [00:57<00:00,  2.21s/it, loss: 4.96033]\n",
            "[RESULT] Train Loss: 5.03676\n",
            "\n",
            "Epoch 91 / 700\n",
            "\tTrain Phase: 100% 26/26 [00:57<00:00,  2.20s/it, loss: 4.90646]\n",
            "[RESULT] Train Loss: 5.03668\n",
            "\n",
            "Epoch 92 / 700\n",
            "\tTrain Phase: 100% 26/26 [00:58<00:00,  2.23s/it, loss: 4.97682]\n",
            "[RESULT] Train Loss: 5.02148\n",
            "\n",
            "Epoch 93 / 700\n",
            "\tTrain Phase: 100% 26/26 [00:57<00:00,  2.23s/it, loss: 5.05419]\n",
            "[RESULT] Train Loss: 5.00536\n",
            "\n",
            "Epoch 94 / 700\n",
            "\tTrain Phase: 100% 26/26 [00:57<00:00,  2.22s/it, loss: 5.03405]\n",
            "[RESULT] Train Loss: 4.99887\n",
            "\n",
            "Epoch 95 / 700\n",
            "\tTrain Phase: 100% 26/26 [00:57<00:00,  2.22s/it, loss: 4.83344]\n",
            "[RESULT] Train Loss: 4.99951\n",
            "\n",
            "Epoch 96 / 700\n",
            "\tTrain Phase: 100% 26/26 [00:58<00:00,  2.24s/it, loss: 5.11620]\n",
            "[RESULT] Train Loss: 4.98821\n",
            "\n",
            "Epoch 97 / 700\n",
            "\tTrain Phase: 100% 26/26 [00:57<00:00,  2.20s/it, loss: 5.02714]\n",
            "[RESULT] Train Loss: 4.97631\n",
            "\n",
            "Epoch 98 / 700\n",
            "\tTrain Phase: 100% 26/26 [00:57<00:00,  2.21s/it, loss: 4.69159]\n",
            "[RESULT] Train Loss: 4.96582\n",
            "\n",
            "Epoch 99 / 700\n",
            "\tTrain Phase: 100% 26/26 [00:57<00:00,  2.21s/it, loss: 4.99880]\n",
            "[RESULT] Train Loss: 4.94606\n",
            "\n",
            "Epoch 100 / 700\n",
            "\tTrain Phase: 100% 26/26 [00:57<00:00,  2.21s/it, loss: 4.98926]\n",
            "\tCompute Threshold: 100% 26/26 [00:28<00:00,  1.09s/it]\n",
            "\tTest Phase: 100% 13/13 [00:13<00:00,  1.06s/it, loss: 4.91380]\n",
            "[RESULT] Train Loss: 4.94459 - Val Loss: 5.05516 - AUROC: 0.406\n",
            "\n",
            "Epoch 101 / 700\n",
            "\tTrain Phase:   8% 2/26 [00:07<01:26,  3.61s/it, loss: 4.81293]\n",
            "Traceback (most recent call last):\n",
            "  File \"/content/unsupervised-anomaly-detection/train_dfr.py\", line 55, in <module>\n",
            "    loss_train = model.train(train_dl)\n",
            "  File \"/content/unsupervised-anomaly-detection/DFR/models/dfr.py\", line 116, in train\n",
            "    losses += loss.item()\n",
            "KeyboardInterrupt\n",
            "^C\n"
          ]
        }
      ]
    },
    {
      "cell_type": "markdown",
      "source": [
        "## Train RegAD"
      ],
      "metadata": {
        "id": "sae7_xXVsTWv"
      }
    },
    {
      "cell_type": "code",
      "source": [
        "%%writefile /content/regad_config.yaml\n",
        "MODEL:\n",
        "  INPUT_SIZE: 224\n",
        "  BACKBONE: \"resnet18\"\n",
        "  STN_MODE: \"rotation_scale\"\n",
        "TRAIN:\n",
        "  EPOCH: 50\n",
        "  BATCH_SIZE: 32\n",
        "  N_SHOT: 4\n",
        "  N_TEST: 5\n",
        "  LEARNING_RATE_STN: 1.0e-4\n",
        "  LEARNING_RATE_ENC: 1.0e-4\n",
        "  LEARNING_RATE_PRED: 1.0e-4\n",
        "  MOMENTUM_STN: 9.0e-1\n",
        "  MOMENTUM_ENC: 9.0e-1\n",
        "  MOMENTUM_PRED: 9.0e-1\n",
        "  PRETRAINED: True\n",
        "  DEVICE: \"cuda\"\n",
        "  TRAIN_DATA_DIR: \"/content/mvtec-ad\"\n",
        "  TEST_DATA_DIR: \"/content/mvtec-ad/transistor\"\n",
        "  IGNORE_CLASS: \"transistor\"\n",
        "  SAVE_DIR: \"/content\"\n",
        "  RESUME_TRAIN: False\n",
        "  CHECKPOINT_PATH: \"/content/last.pt\"\n",
        "INFERENCE:\n",
        "  SUPPORT_SET_PATH: \"\""
      ],
      "metadata": {
        "colab": {
          "base_uri": "https://localhost:8080/"
        },
        "id": "9NV6gIs1safA",
        "outputId": "1bc2ed6a-bfc0-469e-8ed7-0784bf1006e6"
      },
      "execution_count": 10,
      "outputs": [
        {
          "output_type": "stream",
          "name": "stdout",
          "text": [
            "Overwriting /content/regad_config.yaml\n"
          ]
        }
      ]
    },
    {
      "cell_type": "code",
      "source": [
        "!python /content/unsupervised-anomaly-detection/train_regad.py \\\n",
        "    --config /content/regad_config.yaml"
      ],
      "metadata": {
        "id": "yTSxi4RsUt8c"
      },
      "execution_count": null,
      "outputs": []
    }
  ]
}